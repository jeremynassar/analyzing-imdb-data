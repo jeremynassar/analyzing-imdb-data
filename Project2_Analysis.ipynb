{
 "cells": [
  {
   "cell_type": "markdown",
   "id": "73bc9548",
   "metadata": {},
   "source": [
    "# Analysis of IMDB Data"
   ]
  },
  {
   "cell_type": "markdown",
   "id": "4b3da555",
   "metadata": {},
   "source": [
    "We will analyze a subset of IMDB's actors, genres, movie actors, and movie ratings data. This dataset comes to us from Kaggle (https://www.kaggle.com/datasets/ashirwadsangwan/imdb-dataset) although we have taken steps to pull this data into a publis s3 bucket: \n",
    "\n",
    "* s3://cis9760-lecture9-movieanalysis/name.basics.tsv ---> (actors)\n",
    "* s3://cis9760-lecture9-movieanalysis/title.basics.tsv ---> (genres)\n",
    "* s3://cis9760-lecture9-movieanalysis/title.principals.tsv ---> (movie actors)\n",
    "* s3://cis9760-lecture9-movieanalysis/title.ratings.tsv ---> (movie ratings)"
   ]
  },
  {
   "cell_type": "markdown",
   "id": "bfb57a80",
   "metadata": {},
   "source": [
    "# Content\n",
    "\n",
    "**<br />name.basics.tsv.gz – Contains the following information for names:**\n",
    "<br />nconst (string) - alphanumeric unique identifier of the name/person.\n",
    "<br />primaryName (string)– name by which the person is most often credited.\n",
    "<br />birthYear – in YYYY format.\n",
    "<br />deathYear – in YYYY format if applicable, else .\n",
    "<br />primaryProfession (array of strings)– the top-3 professions of the person.\n",
    "<br />knownForTitles (array of tconsts) – titles the person is known for.\n",
    "<br/><br/>\n",
    "**<br />title.basics.tsv.gz - Contains the following information for titles:**\n",
    "<br />tconst (string) - alphanumeric unique identifier of the title.\n",
    "<br />titleType (string) – the type/format of the title (e.g. movie, short, tvseries, tvepisode, video, etc).\n",
    "<br />primaryTitle (string) – the more popular title / the title used by the filmmakers on promotional materials at the point of release.\n",
    "<br />originalTitle (string) - original title, in the original language.\n",
    "<br />isAdult (boolean) - 0: non-adult title; 1: adult title.\n",
    "<br />startYear (YYYY) – represents the release year of a title. In the case of TV Series, it is the series start year.\n",
    "<br />endYear (YYYY) – TV Series end year. for all other title types.\n",
    "<br />runtimeMinutes – primary runtime of the title, in minutes.\n",
    "<br />genres (string array) – includes up to three genres associated with the title.\n",
    "<br/><br/>\n",
    "**<br />title.principals.tsv – Contains the principal cast/crew for titles:**\n",
    "<br />tconst (string) - alphanumeric unique identifier of the title.\n",
    "<br />ordering (integer) – a number to uniquely identify rows for a given titleId.\n",
    "<br />nconst (string) - alphanumeric unique identifier of the name/person.\n",
    "<br />category (string) - the category of job that person was in.\n",
    "<br />job (string) - the specific job title if applicable, else.\n",
    "<br />characters (string) - the name of the character played if applicable, else.\n",
    "<br/><br/>\n",
    "**<br />title.ratings.tsv.gz – Contains the IMDb rating and votes information for titles:**\n",
    "<br />tconst (string) - alphanumeric unique identifier of the title.\n",
    "<br />averageRating – weighted average of all the individual user ratings.\n",
    "<br />numVotes - number of votes the title has received."
   ]
  },
  {
   "cell_type": "markdown",
   "id": "0a6597bc",
   "metadata": {},
   "source": [
    "# PART 1 - Installation and Initial Setup"
   ]
  },
  {
   "cell_type": "markdown",
   "id": "ef17e1b3",
   "metadata": {},
   "source": [
    "Begin by installing the necessary libraries that you may need to conduct your analysis. At the very least, you must install pandas and matplotlib"
   ]
  },
  {
   "cell_type": "code",
   "execution_count": 1,
   "id": "5a20c821",
   "metadata": {},
   "outputs": [
    {
     "data": {
      "text/html": [
       "Current session configs: <tt>{'conf': {'spark.pyspark.python': 'python3', 'spark.pyspark.virtualenv.enabled': 'true', 'spark.pyspark.virtualenv.type': 'native', 'spark.pyspark.virtualenv.bin.path': '/usr/bin/virtualenv'}, 'kind': 'pyspark'}</tt><br>"
      ],
      "text/plain": [
       "<IPython.core.display.HTML object>"
      ]
     },
     "metadata": {},
     "output_type": "display_data"
    },
    {
     "data": {
      "text/html": [
       "No active sessions."
      ],
      "text/plain": [
       "<IPython.core.display.HTML object>"
      ]
     },
     "metadata": {},
     "output_type": "display_data"
    }
   ],
   "source": [
    "%%info"
   ]
  },
  {
   "cell_type": "markdown",
   "id": "e0baad00",
   "metadata": {},
   "source": [
    "Let's install the necessary packages here"
   ]
  },
  {
   "cell_type": "code",
   "execution_count": 2,
   "id": "3a6bef25",
   "metadata": {},
   "outputs": [
    {
     "data": {
      "application/vnd.jupyter.widget-view+json": {
       "model_id": "f10486e25af54c52be243fe12ffeb1a3",
       "version_major": 2,
       "version_minor": 0
      },
      "text/plain": [
       "VBox()"
      ]
     },
     "metadata": {},
     "output_type": "display_data"
    },
    {
     "name": "stdout",
     "output_type": "stream",
     "text": [
      "Starting Spark application\n"
     ]
    },
    {
     "data": {
      "text/html": [
       "<table>\n",
       "<tr><th>ID</th><th>YARN Application ID</th><th>Kind</th><th>State</th><th>Spark UI</th><th>Driver log</th><th>Current session?</th></tr><tr><td>3</td><td>application_1669595400244_0004</td><td>pyspark</td><td>idle</td><td><a target=\"_blank\" href=\"http://ip-172-31-19-62.ec2.internal:20888/proxy/application_1669595400244_0004/\">Link</a></td><td><a target=\"_blank\" href=\"http://ip-172-31-26-102.ec2.internal:8042/node/containerlogs/container_1669595400244_0004_01_000001/livy\">Link</a></td><td>✔</td></tr></table>"
      ],
      "text/plain": [
       "<IPython.core.display.HTML object>"
      ]
     },
     "metadata": {},
     "output_type": "display_data"
    },
    {
     "data": {
      "application/vnd.jupyter.widget-view+json": {
       "model_id": "",
       "version_major": 2,
       "version_minor": 0
      },
      "text/plain": [
       "FloatProgress(value=0.0, bar_style='info', description='Progress:', layout=Layout(height='25px', width='50%'),…"
      ]
     },
     "metadata": {},
     "output_type": "display_data"
    },
    {
     "name": "stdout",
     "output_type": "stream",
     "text": [
      "SparkSession available as 'spark'.\n"
     ]
    },
    {
     "data": {
      "application/vnd.jupyter.widget-view+json": {
       "model_id": "",
       "version_major": 2,
       "version_minor": 0
      },
      "text/plain": [
       "FloatProgress(value=0.0, bar_style='info', description='Progress:', layout=Layout(height='25px', width='50%'),…"
      ]
     },
     "metadata": {},
     "output_type": "display_data"
    },
    {
     "name": "stdout",
     "output_type": "stream",
     "text": [
      "Collecting pandas==1.0.3\n",
      "  Using cached https://files.pythonhosted.org/packages/4a/6a/94b219b8ea0f2d580169e85ed1edc0163743f55aaeca8a44c2e8fc1e344e/pandas-1.0.3-cp37-cp37m-manylinux1_x86_64.whl\n",
      "Requirement already satisfied: pytz>=2017.2 in /usr/local/lib/python3.7/site-packages (from pandas==1.0.3)\n",
      "Requirement already satisfied: numpy>=1.13.3 in /usr/local/lib64/python3.7/site-packages (from pandas==1.0.3)\n",
      "Collecting python-dateutil>=2.6.1 (from pandas==1.0.3)\n",
      "  Using cached https://files.pythonhosted.org/packages/36/7a/87837f39d0296e723bb9b62bbb257d0355c7f6128853c78955f57342a56d/python_dateutil-2.8.2-py2.py3-none-any.whl\n",
      "Requirement already satisfied: six>=1.5 in /usr/local/lib/python3.7/site-packages (from python-dateutil>=2.6.1->pandas==1.0.3)\n",
      "Installing collected packages: python-dateutil, pandas\n",
      "Successfully installed pandas-1.0.3 python-dateutil-2.8.2\n",
      "\n",
      "Collecting matplotlib==3.2.1\n",
      "  Using cached https://files.pythonhosted.org/packages/b2/c2/71fcf957710f3ba1f09088b35776a799ba7dd95f7c2b195ec800933b276b/matplotlib-3.2.1-cp37-cp37m-manylinux1_x86_64.whl\n",
      "Requirement already satisfied: python-dateutil>=2.1 in /mnt/tmp/1669611076034-0/lib/python3.7/site-packages (from matplotlib==3.2.1)\n",
      "Collecting pyparsing!=2.0.4,!=2.1.2,!=2.1.6,>=2.0.1 (from matplotlib==3.2.1)\n",
      "  Using cached https://files.pythonhosted.org/packages/6c/10/a7d0fa5baea8fe7b50f448ab742f26f52b80bfca85ac2be9d35cdd9a3246/pyparsing-3.0.9-py3-none-any.whl\n",
      "Collecting cycler>=0.10 (from matplotlib==3.2.1)\n",
      "  Using cached https://files.pythonhosted.org/packages/5c/f9/695d6bedebd747e5eb0fe8fad57b72fdf25411273a39791cde838d5a8f51/cycler-0.11.0-py3-none-any.whl\n",
      "Requirement already satisfied: numpy>=1.11 in /usr/local/lib64/python3.7/site-packages (from matplotlib==3.2.1)\n",
      "Collecting kiwisolver>=1.0.1 (from matplotlib==3.2.1)\n",
      "  Using cached https://files.pythonhosted.org/packages/ab/8f/8dbe2d4efc4c0b08ec67d6efb7cc31fbfd688c80afad85f65980633b0d37/kiwisolver-1.4.4-cp37-cp37m-manylinux_2_5_x86_64.manylinux1_x86_64.whl\n",
      "Requirement already satisfied: six>=1.5 in /usr/local/lib/python3.7/site-packages (from python-dateutil>=2.1->matplotlib==3.2.1)\n",
      "Collecting typing-extensions; python_version < \"3.8\" (from kiwisolver>=1.0.1->matplotlib==3.2.1)\n",
      "  Using cached https://files.pythonhosted.org/packages/0b/8e/f1a0a5a76cfef77e1eb6004cb49e5f8d72634da638420b9ea492ce8305e8/typing_extensions-4.4.0-py3-none-any.whl\n",
      "Installing collected packages: pyparsing, cycler, typing-extensions, kiwisolver, matplotlib\n",
      "Successfully installed cycler-0.11.0 kiwisolver-1.4.4 matplotlib-3.2.1 pyparsing-3.0.9 typing-extensions-4.4.0"
     ]
    }
   ],
   "source": [
    "sc.install_pypi_package(\"pandas==1.0.3\")\n",
    "sc.install_pypi_package(\"matplotlib==3.2.1\")"
   ]
  },
  {
   "cell_type": "markdown",
   "id": "92f337f1",
   "metadata": {},
   "source": [
    "Now, import the installed packages from the previous block below."
   ]
  },
  {
   "cell_type": "code",
   "execution_count": 3,
   "id": "b527ed37",
   "metadata": {},
   "outputs": [
    {
     "data": {
      "application/vnd.jupyter.widget-view+json": {
       "model_id": "3b78ee86297f4a1daa83de5dacd2e362",
       "version_major": 2,
       "version_minor": 0
      },
      "text/plain": [
       "VBox()"
      ]
     },
     "metadata": {},
     "output_type": "display_data"
    },
    {
     "data": {
      "application/vnd.jupyter.widget-view+json": {
       "model_id": "",
       "version_major": 2,
       "version_minor": 0
      },
      "text/plain": [
       "FloatProgress(value=0.0, bar_style='info', description='Progress:', layout=Layout(height='25px', width='50%'),…"
      ]
     },
     "metadata": {},
     "output_type": "display_data"
    }
   ],
   "source": [
    "import pandas as pd\n",
    "import matplotlib as plt"
   ]
  },
  {
   "cell_type": "markdown",
   "id": "9b2f109d",
   "metadata": {},
   "source": [
    "# Loading Data"
   ]
  },
  {
   "cell_type": "markdown",
   "id": "966aba52",
   "metadata": {},
   "source": [
    "Load all data from S3 into a Spark dataframe object "
   ]
  },
  {
   "cell_type": "code",
   "execution_count": 4,
   "id": "f5074486",
   "metadata": {
    "scrolled": true
   },
   "outputs": [
    {
     "data": {
      "application/vnd.jupyter.widget-view+json": {
       "model_id": "09da15ea336f41b3820b16f5b8ba1a96",
       "version_major": 2,
       "version_minor": 0
      },
      "text/plain": [
       "VBox()"
      ]
     },
     "metadata": {},
     "output_type": "display_data"
    },
    {
     "data": {
      "application/vnd.jupyter.widget-view+json": {
       "model_id": "",
       "version_major": 2,
       "version_minor": 0
      },
      "text/plain": [
       "FloatProgress(value=0.0, bar_style='info', description='Progress:', layout=Layout(height='25px', width='50%'),…"
      ]
     },
     "metadata": {},
     "output_type": "display_data"
    }
   ],
   "source": [
    "actors = spark.read.csv('s3://cis9760-lecture9-movieanalysis/name.basics.tsv', sep=r'\\t', header=True)\n",
    "genres = spark.read.csv('s3://cis9760-lecture9-movieanalysis/title.basics.tsv', sep=r'\\t', header=True)\n",
    "movie_actors = spark.read.csv('s3://cis9760-lecture9-movieanalysis/title.principals.tsv', sep=r'\\t', header=True)\n",
    "movie_ratings = spark.read.csv('s3://cis9760-lecture9-movieanalysis/title.ratings.tsv', sep=r'\\t', header=True)"
   ]
  },
  {
   "cell_type": "markdown",
   "id": "765abec6",
   "metadata": {},
   "source": [
    "## Actors"
   ]
  },
  {
   "cell_type": "markdown",
   "id": "6bd08dc9",
   "metadata": {},
   "source": [
    "Display the schema below:"
   ]
  },
  {
   "cell_type": "code",
   "execution_count": 5,
   "id": "1eecdfcb",
   "metadata": {},
   "outputs": [
    {
     "data": {
      "application/vnd.jupyter.widget-view+json": {
       "model_id": "21c0fe529f0a498b960cf18f7233c074",
       "version_major": 2,
       "version_minor": 0
      },
      "text/plain": [
       "VBox()"
      ]
     },
     "metadata": {},
     "output_type": "display_data"
    },
    {
     "data": {
      "application/vnd.jupyter.widget-view+json": {
       "model_id": "",
       "version_major": 2,
       "version_minor": 0
      },
      "text/plain": [
       "FloatProgress(value=0.0, bar_style='info', description='Progress:', layout=Layout(height='25px', width='50%'),…"
      ]
     },
     "metadata": {},
     "output_type": "display_data"
    },
    {
     "name": "stdout",
     "output_type": "stream",
     "text": [
      "root\n",
      " |-- nconst: string (nullable = true)\n",
      " |-- primaryName: string (nullable = true)\n",
      " |-- birthYear: string (nullable = true)\n",
      " |-- deathYear: string (nullable = true)\n",
      " |-- primaryProfession: string (nullable = true)\n",
      " |-- knownForTitles: string (nullable = true)"
     ]
    }
   ],
   "source": [
    "actors.printSchema()"
   ]
  },
  {
   "cell_type": "markdown",
   "id": "64a82266",
   "metadata": {},
   "source": [
    "Display the first 5 rows with the following columns:\n",
    "\n",
    "* `primaryName`\n",
    "* `birthYear`\n",
    "* `deathYear`\n",
    "* `knownForTitles`"
   ]
  },
  {
   "cell_type": "code",
   "execution_count": 6,
   "id": "e5d925ee",
   "metadata": {},
   "outputs": [
    {
     "data": {
      "application/vnd.jupyter.widget-view+json": {
       "model_id": "91f80c74fe004157a9e719e346ce72a3",
       "version_major": 2,
       "version_minor": 0
      },
      "text/plain": [
       "VBox()"
      ]
     },
     "metadata": {},
     "output_type": "display_data"
    },
    {
     "data": {
      "application/vnd.jupyter.widget-view+json": {
       "model_id": "",
       "version_major": 2,
       "version_minor": 0
      },
      "text/plain": [
       "FloatProgress(value=0.0, bar_style='info', description='Progress:', layout=Layout(height='25px', width='50%'),…"
      ]
     },
     "metadata": {},
     "output_type": "display_data"
    },
    {
     "name": "stdout",
     "output_type": "stream",
     "text": [
      "+---------------+---------+---------+--------------------+\n",
      "|    primaryName|birthYear|deathYear|      knownForTitles|\n",
      "+---------------+---------+---------+--------------------+\n",
      "|   Fred Astaire|     1899|     1987|tt0050419,tt00531...|\n",
      "|  Lauren Bacall|     1924|     2014|tt0071877,tt01170...|\n",
      "|Brigitte Bardot|     1934|       \\N|tt0054452,tt00491...|\n",
      "|   John Belushi|     1949|     1982|tt0077975,tt00725...|\n",
      "| Ingmar Bergman|     1918|     2007|tt0069467,tt00509...|\n",
      "+---------------+---------+---------+--------------------+\n",
      "only showing top 5 rows"
     ]
    }
   ],
   "source": [
    "actors.select(\"primaryName\",\"birthYear\",\"deathYear\",\"knownForTitles\").show(5)"
   ]
  },
  {
   "cell_type": "markdown",
   "id": "51442d1c",
   "metadata": {},
   "source": [
    "## Genres"
   ]
  },
  {
   "cell_type": "markdown",
   "id": "0c2b583c",
   "metadata": {},
   "source": [
    "Display the first 10 rows with the following columns:\n",
    "    \n",
    "* `titleType`\n",
    "* `primaryTitle`\n",
    "* `genres`"
   ]
  },
  {
   "cell_type": "code",
   "execution_count": 7,
   "id": "391cdac2",
   "metadata": {
    "scrolled": false
   },
   "outputs": [
    {
     "data": {
      "application/vnd.jupyter.widget-view+json": {
       "model_id": "1f6baa049bd84b649e4139a288a4fd92",
       "version_major": 2,
       "version_minor": 0
      },
      "text/plain": [
       "VBox()"
      ]
     },
     "metadata": {},
     "output_type": "display_data"
    },
    {
     "data": {
      "application/vnd.jupyter.widget-view+json": {
       "model_id": "",
       "version_major": 2,
       "version_minor": 0
      },
      "text/plain": [
       "FloatProgress(value=0.0, bar_style='info', description='Progress:', layout=Layout(height='25px', width='50%'),…"
      ]
     },
     "metadata": {},
     "output_type": "display_data"
    },
    {
     "name": "stdout",
     "output_type": "stream",
     "text": [
      "+---------+--------------------+--------------------+\n",
      "|titleType|        primaryTitle|              genres|\n",
      "+---------+--------------------+--------------------+\n",
      "|    short|          Carmencita|   Documentary,Short|\n",
      "|    short|Le clown et ses c...|     Animation,Short|\n",
      "|    short|      Pauvre Pierrot|Animation,Comedy,...|\n",
      "|    short|         Un bon bock|     Animation,Short|\n",
      "|    short|    Blacksmith Scene|        Comedy,Short|\n",
      "|    short|   Chinese Opium Den|               Short|\n",
      "|    short|Corbett and Court...|         Short,Sport|\n",
      "|    short|Edison Kinetoscop...|   Documentary,Short|\n",
      "|    movie|          Miss Jerry|             Romance|\n",
      "|    short| Exiting the Factory|   Documentary,Short|\n",
      "+---------+--------------------+--------------------+\n",
      "only showing top 10 rows"
     ]
    }
   ],
   "source": [
    "genres.select(\"titleType\",\"primaryTitle\",\"genres\").show(10)"
   ]
  },
  {
   "cell_type": "markdown",
   "id": "c35ce504",
   "metadata": {},
   "source": [
    "Display the unique categories below:"
   ]
  },
  {
   "cell_type": "code",
   "execution_count": 8,
   "id": "5128f46d",
   "metadata": {
    "scrolled": false
   },
   "outputs": [
    {
     "data": {
      "application/vnd.jupyter.widget-view+json": {
       "model_id": "3f83510e26f44abf9c39cc4c47655b91",
       "version_major": 2,
       "version_minor": 0
      },
      "text/plain": [
       "VBox()"
      ]
     },
     "metadata": {},
     "output_type": "display_data"
    },
    {
     "data": {
      "application/vnd.jupyter.widget-view+json": {
       "model_id": "",
       "version_major": 2,
       "version_minor": 0
      },
      "text/plain": [
       "FloatProgress(value=0.0, bar_style='info', description='Progress:', layout=Layout(height='25px', width='50%'),…"
      ]
     },
     "metadata": {},
     "output_type": "display_data"
    },
    {
     "name": "stdout",
     "output_type": "stream",
     "text": [
      "+------------+\n",
      "|   titleType|\n",
      "+------------+\n",
      "|    tvSeries|\n",
      "|tvMiniSeries|\n",
      "|       movie|\n",
      "|   videoGame|\n",
      "|   tvSpecial|\n",
      "|       video|\n",
      "|     tvMovie|\n",
      "|   tvEpisode|\n",
      "|     tvShort|\n",
      "|       short|\n",
      "+------------+"
     ]
    }
   ],
   "source": [
    "genres.select(\"titleType\").distinct().show()"
   ]
  },
  {
   "cell_type": "markdown",
   "id": "4a7a6cce",
   "metadata": {},
   "source": [
    "Display the schema below:"
   ]
  },
  {
   "cell_type": "code",
   "execution_count": 9,
   "id": "ea93031e",
   "metadata": {},
   "outputs": [
    {
     "data": {
      "application/vnd.jupyter.widget-view+json": {
       "model_id": "7553e976a35d4b3c91bfe2426643d0f6",
       "version_major": 2,
       "version_minor": 0
      },
      "text/plain": [
       "VBox()"
      ]
     },
     "metadata": {},
     "output_type": "display_data"
    },
    {
     "data": {
      "application/vnd.jupyter.widget-view+json": {
       "model_id": "",
       "version_major": 2,
       "version_minor": 0
      },
      "text/plain": [
       "FloatProgress(value=0.0, bar_style='info', description='Progress:', layout=Layout(height='25px', width='50%'),…"
      ]
     },
     "metadata": {},
     "output_type": "display_data"
    },
    {
     "name": "stdout",
     "output_type": "stream",
     "text": [
      "root\n",
      " |-- tconst: string (nullable = true)\n",
      " |-- titleType: string (nullable = true)\n",
      " |-- primaryTitle: string (nullable = true)\n",
      " |-- originalTitle: string (nullable = true)\n",
      " |-- isAdult: string (nullable = true)\n",
      " |-- startYear: string (nullable = true)\n",
      " |-- endYear: string (nullable = true)\n",
      " |-- runtimeMinutes: string (nullable = true)\n",
      " |-- genres: string (nullable = true)"
     ]
    }
   ],
   "source": [
    "genres.printSchema()"
   ]
  },
  {
   "cell_type": "markdown",
   "id": "fa706ee4",
   "metadata": {},
   "source": [
    "## Movie Actors"
   ]
  },
  {
   "cell_type": "markdown",
   "id": "32f14042",
   "metadata": {},
   "source": [
    "Display the schema below:"
   ]
  },
  {
   "cell_type": "code",
   "execution_count": 10,
   "id": "4571eb2f",
   "metadata": {
    "scrolled": false
   },
   "outputs": [
    {
     "data": {
      "application/vnd.jupyter.widget-view+json": {
       "model_id": "6b10776936234ecf85ca0d9edb94e61d",
       "version_major": 2,
       "version_minor": 0
      },
      "text/plain": [
       "VBox()"
      ]
     },
     "metadata": {},
     "output_type": "display_data"
    },
    {
     "data": {
      "application/vnd.jupyter.widget-view+json": {
       "model_id": "",
       "version_major": 2,
       "version_minor": 0
      },
      "text/plain": [
       "FloatProgress(value=0.0, bar_style='info', description='Progress:', layout=Layout(height='25px', width='50%'),…"
      ]
     },
     "metadata": {},
     "output_type": "display_data"
    },
    {
     "name": "stdout",
     "output_type": "stream",
     "text": [
      "root\n",
      " |-- tconst: string (nullable = true)\n",
      " |-- ordering: string (nullable = true)\n",
      " |-- nconst: string (nullable = true)\n",
      " |-- category: string (nullable = true)\n",
      " |-- job: string (nullable = true)\n",
      " |-- characters: string (nullable = true)"
     ]
    }
   ],
   "source": [
    "movie_actors.printSchema()"
   ]
  },
  {
   "cell_type": "markdown",
   "id": "b08eb2d6",
   "metadata": {},
   "source": [
    "Display the first 10 rows below"
   ]
  },
  {
   "cell_type": "code",
   "execution_count": 11,
   "id": "f1bb4d2e",
   "metadata": {},
   "outputs": [
    {
     "data": {
      "application/vnd.jupyter.widget-view+json": {
       "model_id": "b1decf9ae4fd4e0387e96114cb49ec8d",
       "version_major": 2,
       "version_minor": 0
      },
      "text/plain": [
       "VBox()"
      ]
     },
     "metadata": {},
     "output_type": "display_data"
    },
    {
     "data": {
      "application/vnd.jupyter.widget-view+json": {
       "model_id": "",
       "version_major": 2,
       "version_minor": 0
      },
      "text/plain": [
       "FloatProgress(value=0.0, bar_style='info', description='Progress:', layout=Layout(height='25px', width='50%'),…"
      ]
     },
     "metadata": {},
     "output_type": "display_data"
    },
    {
     "name": "stdout",
     "output_type": "stream",
     "text": [
      "+---------+--------+---------+---------------+--------------------+-----------+\n",
      "|   tconst|ordering|   nconst|       category|                 job| characters|\n",
      "+---------+--------+---------+---------------+--------------------+-----------+\n",
      "|tt0000001|       1|nm1588970|           self|                  \\N|[\"Herself\"]|\n",
      "|tt0000001|       2|nm0005690|       director|                  \\N|         \\N|\n",
      "|tt0000001|       3|nm0374658|cinematographer|director of photo...|         \\N|\n",
      "|tt0000002|       1|nm0721526|       director|                  \\N|         \\N|\n",
      "|tt0000002|       2|nm1335271|       composer|                  \\N|         \\N|\n",
      "|tt0000003|       1|nm0721526|       director|                  \\N|         \\N|\n",
      "|tt0000003|       2|nm5442194|       producer|            producer|         \\N|\n",
      "|tt0000003|       3|nm1335271|       composer|                  \\N|         \\N|\n",
      "|tt0000003|       4|nm5442200|         editor|                  \\N|         \\N|\n",
      "|tt0000004|       1|nm0721526|       director|                  \\N|         \\N|\n",
      "+---------+--------+---------+---------------+--------------------+-----------+\n",
      "only showing top 10 rows"
     ]
    }
   ],
   "source": [
    "movie_actors.show(10)"
   ]
  },
  {
   "cell_type": "markdown",
   "id": "e063e804",
   "metadata": {},
   "source": [
    "## Movie Ratings"
   ]
  },
  {
   "cell_type": "markdown",
   "id": "8d9dbbf2",
   "metadata": {},
   "source": [
    "Display the schema below:"
   ]
  },
  {
   "cell_type": "code",
   "execution_count": 12,
   "id": "394297ae",
   "metadata": {},
   "outputs": [
    {
     "data": {
      "application/vnd.jupyter.widget-view+json": {
       "model_id": "c87d07b3e2e549ea9028a9956b61cb1d",
       "version_major": 2,
       "version_minor": 0
      },
      "text/plain": [
       "VBox()"
      ]
     },
     "metadata": {},
     "output_type": "display_data"
    },
    {
     "data": {
      "application/vnd.jupyter.widget-view+json": {
       "model_id": "",
       "version_major": 2,
       "version_minor": 0
      },
      "text/plain": [
       "FloatProgress(value=0.0, bar_style='info', description='Progress:', layout=Layout(height='25px', width='50%'),…"
      ]
     },
     "metadata": {},
     "output_type": "display_data"
    },
    {
     "name": "stdout",
     "output_type": "stream",
     "text": [
      "root\n",
      " |-- tconst: string (nullable = true)\n",
      " |-- averageRating: string (nullable = true)\n",
      " |-- numVotes: string (nullable = true)"
     ]
    }
   ],
   "source": [
    "movie_ratings.printSchema()"
   ]
  },
  {
   "cell_type": "markdown",
   "id": "a7e38610",
   "metadata": {},
   "source": [
    "Display the first 10 rows in a descending order by the number of votes"
   ]
  },
  {
   "cell_type": "code",
   "execution_count": 13,
   "id": "95d90d02",
   "metadata": {},
   "outputs": [
    {
     "data": {
      "application/vnd.jupyter.widget-view+json": {
       "model_id": "63ceb6b0d769489693a72acc96675e9a",
       "version_major": 2,
       "version_minor": 0
      },
      "text/plain": [
       "VBox()"
      ]
     },
     "metadata": {},
     "output_type": "display_data"
    },
    {
     "data": {
      "application/vnd.jupyter.widget-view+json": {
       "model_id": "",
       "version_major": 2,
       "version_minor": 0
      },
      "text/plain": [
       "FloatProgress(value=0.0, bar_style='info', description='Progress:', layout=Layout(height='25px', width='50%'),…"
      ]
     },
     "metadata": {},
     "output_type": "display_data"
    },
    {
     "name": "stdout",
     "output_type": "stream",
     "text": [
      "+---------+-------------+--------+\n",
      "|   tconst|averageRating|numVotes|\n",
      "+---------+-------------+--------+\n",
      "|tt7430722|          6.8|    9999|\n",
      "|tt4445154|          8.1|    9997|\n",
      "|tt2229907|          6.3|    9996|\n",
      "|tt0294097|          8.0|    9994|\n",
      "|tt0264734|          6.5|    9993|\n",
      "|tt8860450|          6.3|    9991|\n",
      "|tt2032572|          5.2|    9991|\n",
      "|tt0664505|          8.4|     999|\n",
      "|tt7508752|          7.9|     999|\n",
      "|tt1077089|          7.3|     999|\n",
      "+---------+-------------+--------+\n",
      "only showing top 10 rows"
     ]
    }
   ],
   "source": [
    "from pyspark.sql.functions import col\n",
    "movie_ratings.select(\"tconst\", \"averageRating\", \"numVotes\").sort(col(\"numVotes\").desc()).show(10)"
   ]
  },
  {
   "cell_type": "markdown",
   "id": "dc6beb73",
   "metadata": {},
   "source": [
    "# Overview of Data"
   ]
  },
  {
   "cell_type": "markdown",
   "id": "6349d83b",
   "metadata": {},
   "source": [
    "Display the number of rows and columns in each dataFrame object."
   ]
  },
  {
   "cell_type": "code",
   "execution_count": 14,
   "id": "c085e8f6",
   "metadata": {
    "scrolled": true
   },
   "outputs": [
    {
     "data": {
      "application/vnd.jupyter.widget-view+json": {
       "model_id": "7a3b6951dc184c5a86586c83780b44cf",
       "version_major": 2,
       "version_minor": 0
      },
      "text/plain": [
       "VBox()"
      ]
     },
     "metadata": {},
     "output_type": "display_data"
    },
    {
     "data": {
      "application/vnd.jupyter.widget-view+json": {
       "model_id": "",
       "version_major": 2,
       "version_minor": 0
      },
      "text/plain": [
       "FloatProgress(value=0.0, bar_style='info', description='Progress:', layout=Layout(height='25px', width='50%'),…"
      ]
     },
     "metadata": {},
     "output_type": "display_data"
    },
    {
     "name": "stdout",
     "output_type": "stream",
     "text": [
      "Number of columns in Actors table: 6\n",
      "Number of rows in Actors table: 9706922\n",
      "\n",
      "Number of columns in Genres table: 9\n",
      "Number of rows in Genress table: 6321302\n",
      "\n",
      "Number of columns in Movie Actors table: 6\n",
      "Number of rows in Movie Actors table: 36468817\n",
      "\n",
      "Number of columns in Movie Ratings table: 3\n",
      "Number of rows in Movie Ratings table: 993153"
     ]
    }
   ],
   "source": [
    "print(f\"Number of columns in Actors table: {len(actors.dtypes)}\")\n",
    "print(f\"Number of rows in Actors table: {actors.count()}\\n\")\n",
    "\n",
    "print(f\"Number of columns in Genres table: {len(genres.dtypes)}\")\n",
    "print(f\"Number of rows in Genress table: {genres.count()}\\n\")\n",
    "\n",
    "print(f\"Number of columns in Movie Actors table: {len(movie_actors.dtypes)}\")\n",
    "print(f\"Number of rows in Movie Actors table: {movie_actors.count()}\\n\")\n",
    "\n",
    "print(f\"Number of columns in Movie Ratings table: {len(movie_ratings.dtypes)}\")\n",
    "print(f\"Number of rows in Movie Ratings table: {movie_ratings.count()}\")\n"
   ]
  },
  {
   "cell_type": "markdown",
   "id": "689e09d5",
   "metadata": {},
   "source": [
    "# PART 2 - Analyzing Genres"
   ]
  },
  {
   "cell_type": "markdown",
   "id": "bce79899",
   "metadata": {},
   "source": [
    "Let's now answer this question: how many unique genres are represented in this dataset?\n",
    "\n",
    "Essentially, we have the genres per movie as a list - this is useful to quickly see what each movie might be represented as but it is difficult to easily answer questions such as:\n",
    "\n",
    "* How many movies are categorized as Comedy, for instance?\n",
    "* What are the top 20 most popular genres available?"
   ]
  },
  {
   "cell_type": "markdown",
   "id": "3f5ea0ad",
   "metadata": {},
   "source": [
    "## Association Table\n",
    "\n",
    "We need to \"break out\" these genres from the tconst? One common approach to take is to build an association table mapping a single tconst multiple times to each distinct genre.\n",
    "\n",
    "For instance, given the following:\n",
    "\n",
    "\n",
    "| tconst   | titleType  |genres |\n",
    "|----------|------------|-------|\n",
    "| abcd123  | XXX        |a,b,c  |\n",
    "\n",
    "We would like to derive something like:\n",
    "\n",
    "| tconst   |  titleType |genre |\n",
    "|----------|------------|------|\n",
    "| abcd123  | XXX        |a     |\n",
    "| abcd123  | XXX        |b     |\n",
    "| abcd123  | XXX        |c     |\n",
    "\n",
    "\n",
    "What this does is allow us to then perform a myriad of rollups and other analysis on this association table which can aid us in answering the questions asked above.\n",
    "\n",
    "Implement the code necessary to derive the table described from the data set"
   ]
  },
  {
   "cell_type": "code",
   "execution_count": 15,
   "id": "61349598",
   "metadata": {},
   "outputs": [
    {
     "data": {
      "application/vnd.jupyter.widget-view+json": {
       "model_id": "67c078bdddc14016bdea8b4bb9dea329",
       "version_major": 2,
       "version_minor": 0
      },
      "text/plain": [
       "VBox()"
      ]
     },
     "metadata": {},
     "output_type": "display_data"
    },
    {
     "data": {
      "application/vnd.jupyter.widget-view+json": {
       "model_id": "",
       "version_major": 2,
       "version_minor": 0
      },
      "text/plain": [
       "FloatProgress(value=0.0, bar_style='info', description='Progress:', layout=Layout(height='25px', width='50%'),…"
      ]
     },
     "metadata": {},
     "output_type": "display_data"
    },
    {
     "name": "stdout",
     "output_type": "stream",
     "text": [
      "+---------+---------+------------------------+\n",
      "|tconst   |titleType|genres                  |\n",
      "+---------+---------+------------------------+\n",
      "|tt0000001|short    |Documentary,Short       |\n",
      "|tt0000002|short    |Animation,Short         |\n",
      "|tt0000003|short    |Animation,Comedy,Romance|\n",
      "|tt0000004|short    |Animation,Short         |\n",
      "|tt0000005|short    |Comedy,Short            |\n",
      "+---------+---------+------------------------+\n",
      "only showing top 5 rows"
     ]
    }
   ],
   "source": [
    "genres.select(\"tconst\",\"titleType\",\"genres\").show(5,truncate=False)"
   ]
  },
  {
   "cell_type": "markdown",
   "id": "3f27ead6",
   "metadata": {},
   "source": [
    "Display the first 10 rows of your association table below"
   ]
  },
  {
   "cell_type": "code",
   "execution_count": 16,
   "id": "209a9abd",
   "metadata": {},
   "outputs": [
    {
     "data": {
      "application/vnd.jupyter.widget-view+json": {
       "model_id": "da03ece98d7d4200b950ba7db3451d5c",
       "version_major": 2,
       "version_minor": 0
      },
      "text/plain": [
       "VBox()"
      ]
     },
     "metadata": {},
     "output_type": "display_data"
    },
    {
     "data": {
      "application/vnd.jupyter.widget-view+json": {
       "model_id": "",
       "version_major": 2,
       "version_minor": 0
      },
      "text/plain": [
       "FloatProgress(value=0.0, bar_style='info', description='Progress:', layout=Layout(height='25px', width='50%'),…"
      ]
     },
     "metadata": {},
     "output_type": "display_data"
    },
    {
     "name": "stdout",
     "output_type": "stream",
     "text": [
      "+---------+---------+-----------+\n",
      "|   tconst|titleType|     genres|\n",
      "+---------+---------+-----------+\n",
      "|tt0000001|    short|Documentary|\n",
      "|tt0000001|    short|      Short|\n",
      "|tt0000002|    short|  Animation|\n",
      "|tt0000002|    short|      Short|\n",
      "|tt0000003|    short|  Animation|\n",
      "|tt0000003|    short|     Comedy|\n",
      "|tt0000003|    short|    Romance|\n",
      "|tt0000004|    short|  Animation|\n",
      "|tt0000004|    short|      Short|\n",
      "|tt0000005|    short|     Comedy|\n",
      "+---------+---------+-----------+\n",
      "only showing top 10 rows"
     ]
    }
   ],
   "source": [
    "import pyspark.sql.functions as F\n",
    "genres_result = (genres\n",
    "             .withColumn('genres', F.explode(F.split('genres',',')))\n",
    "            )\n",
    "\n",
    "genres_result.select(\"tconst\", \"titleType\", \"genres\").show(10) "
   ]
  },
  {
   "cell_type": "markdown",
   "id": "28a6cb33",
   "metadata": {},
   "source": [
    "## Total Unique Genres"
   ]
  },
  {
   "cell_type": "markdown",
   "id": "3da774ae",
   "metadata": {},
   "source": [
    "**What is the total number of unique genres available in the movie category?**"
   ]
  },
  {
   "cell_type": "code",
   "execution_count": 17,
   "id": "4e41deb8",
   "metadata": {
    "scrolled": true
   },
   "outputs": [
    {
     "data": {
      "application/vnd.jupyter.widget-view+json": {
       "model_id": "ddbedea52347404687a77360e2310e78",
       "version_major": 2,
       "version_minor": 0
      },
      "text/plain": [
       "VBox()"
      ]
     },
     "metadata": {},
     "output_type": "display_data"
    },
    {
     "data": {
      "application/vnd.jupyter.widget-view+json": {
       "model_id": "",
       "version_major": 2,
       "version_minor": 0
      },
      "text/plain": [
       "FloatProgress(value=0.0, bar_style='info', description='Progress:', layout=Layout(height='25px', width='50%'),…"
      ]
     },
     "metadata": {},
     "output_type": "display_data"
    },
    {
     "name": "stdout",
     "output_type": "stream",
     "text": [
      "29"
     ]
    }
   ],
   "source": [
    "genres_result.filter(genres_result.titleType == \"movie\").select(\"genres\").distinct().count()"
   ]
  },
  {
   "cell_type": "markdown",
   "id": "a7808ac8",
   "metadata": {},
   "source": [
    "**What are the unique genres available?**"
   ]
  },
  {
   "cell_type": "code",
   "execution_count": 18,
   "id": "1c502d5f",
   "metadata": {},
   "outputs": [
    {
     "data": {
      "application/vnd.jupyter.widget-view+json": {
       "model_id": "c27ab8d63ad5454e8a16b4239f17d6e8",
       "version_major": 2,
       "version_minor": 0
      },
      "text/plain": [
       "VBox()"
      ]
     },
     "metadata": {},
     "output_type": "display_data"
    },
    {
     "data": {
      "application/vnd.jupyter.widget-view+json": {
       "model_id": "",
       "version_major": 2,
       "version_minor": 0
      },
      "text/plain": [
       "FloatProgress(value=0.0, bar_style='info', description='Progress:', layout=Layout(height='25px', width='50%'),…"
      ]
     },
     "metadata": {},
     "output_type": "display_data"
    },
    {
     "name": "stdout",
     "output_type": "stream",
     "text": [
      "+-----------+\n",
      "|     genres|\n",
      "+-----------+\n",
      "|    Mystery|\n",
      "|    Musical|\n",
      "|      Sport|\n",
      "|     Action|\n",
      "|  Talk-Show|\n",
      "|    Romance|\n",
      "|   Thriller|\n",
      "|         \\N|\n",
      "| Reality-TV|\n",
      "|     Family|\n",
      "|    Fantasy|\n",
      "|    History|\n",
      "|  Animation|\n",
      "|  Film-Noir|\n",
      "|      Short|\n",
      "|     Sci-Fi|\n",
      "|       News|\n",
      "|      Drama|\n",
      "|Documentary|\n",
      "|    Western|\n",
      "+-----------+\n",
      "only showing top 20 rows"
     ]
    }
   ],
   "source": [
    "genres_result.select(\"genres\").distinct().show()"
   ]
  },
  {
   "cell_type": "markdown",
   "id": "85bae74f",
   "metadata": {},
   "source": [
    "**Oops! Something is off!**"
   ]
  },
  {
   "cell_type": "code",
   "execution_count": 19,
   "id": "670fb90f",
   "metadata": {
    "scrolled": true
   },
   "outputs": [
    {
     "data": {
      "application/vnd.jupyter.widget-view+json": {
       "model_id": "d80a720cfc4c478692de70883cb5fb5d",
       "version_major": 2,
       "version_minor": 0
      },
      "text/plain": [
       "VBox()"
      ]
     },
     "metadata": {},
     "output_type": "display_data"
    },
    {
     "data": {
      "application/vnd.jupyter.widget-view+json": {
       "model_id": "",
       "version_major": 2,
       "version_minor": 0
      },
      "text/plain": [
       "FloatProgress(value=0.0, bar_style='info', description='Progress:', layout=Layout(height='25px', width='50%'),…"
      ]
     },
     "metadata": {},
     "output_type": "display_data"
    },
    {
     "name": "stdout",
     "output_type": "stream",
     "text": [
      "+-----------+\n",
      "|     genres|\n",
      "+-----------+\n",
      "|    Mystery|\n",
      "|    Musical|\n",
      "|      Sport|\n",
      "|     Action|\n",
      "|  Talk-Show|\n",
      "|    Romance|\n",
      "|   Thriller|\n",
      "| Reality-TV|\n",
      "|     Family|\n",
      "|    Fantasy|\n",
      "|    History|\n",
      "|  Animation|\n",
      "|  Film-Noir|\n",
      "|      Short|\n",
      "|     Sci-Fi|\n",
      "|       News|\n",
      "|      Drama|\n",
      "|Documentary|\n",
      "|    Western|\n",
      "|     Comedy|\n",
      "+-----------+\n",
      "only showing top 20 rows"
     ]
    }
   ],
   "source": [
    "nll= '\\\\N'\n",
    "genres_result.select(\"genres\").filter(col(\"genres\") != nll).distinct().show()"
   ]
  },
  {
   "cell_type": "code",
   "execution_count": 20,
   "id": "379868ed",
   "metadata": {},
   "outputs": [
    {
     "data": {
      "application/vnd.jupyter.widget-view+json": {
       "model_id": "6899bc1d8f284bd9abec3536f39fdbb4",
       "version_major": 2,
       "version_minor": 0
      },
      "text/plain": [
       "VBox()"
      ]
     },
     "metadata": {},
     "output_type": "display_data"
    },
    {
     "data": {
      "application/vnd.jupyter.widget-view+json": {
       "model_id": "",
       "version_major": 2,
       "version_minor": 0
      },
      "text/plain": [
       "FloatProgress(value=0.0, bar_style='info', description='Progress:', layout=Layout(height='25px', width='50%'),…"
      ]
     },
     "metadata": {},
     "output_type": "display_data"
    },
    {
     "name": "stdout",
     "output_type": "stream",
     "text": [
      "28"
     ]
    }
   ],
   "source": [
    "nll= '\\\\N'\n",
    "genres_result.filter(genres_result.titleType == \"movie\").select(\"genres\").filter(col(\"genres\") != nll).distinct().count()"
   ]
  },
  {
   "cell_type": "markdown",
   "id": "fe9a6b8a",
   "metadata": {},
   "source": [
    "## Top Genres by Movies\n",
    "\n",
    "Now let's find the highest rated genres in this dataset by rolling up genres."
   ]
  },
  {
   "cell_type": "markdown",
   "id": "b30e0b96",
   "metadata": {},
   "source": [
    "### Average Rating / Genre"
   ]
  },
  {
   "cell_type": "markdown",
   "id": "59242911",
   "metadata": {},
   "source": [
    "So now, let's unroll our distinct count a bit and display the per average rating value of per genre.\n",
    "\n",
    "The expected output should be:\n",
    "\n",
    "| genre | averageRating |\n",
    "|-------------|------------|\n",
    "| a     | 8.5         |\n",
    "| b     | 6.3         |\n",
    "| c     | 7.2         |\n",
    "\n",
    "Or something to that effect."
   ]
  },
  {
   "cell_type": "markdown",
   "id": "f505b1a2",
   "metadata": {},
   "source": [
    "First, let's join our two dataframes (movie ratings and genres) by tconst"
   ]
  },
  {
   "cell_type": "code",
   "execution_count": 21,
   "id": "9c3390dc",
   "metadata": {
    "scrolled": true
   },
   "outputs": [
    {
     "data": {
      "application/vnd.jupyter.widget-view+json": {
       "model_id": "f07902f96485446cb514adfed3e5eead",
       "version_major": 2,
       "version_minor": 0
      },
      "text/plain": [
       "VBox()"
      ]
     },
     "metadata": {},
     "output_type": "display_data"
    },
    {
     "data": {
      "application/vnd.jupyter.widget-view+json": {
       "model_id": "",
       "version_major": 2,
       "version_minor": 0
      },
      "text/plain": [
       "FloatProgress(value=0.0, bar_style='info', description='Progress:', layout=Layout(height='25px', width='50%'),…"
      ]
     },
     "metadata": {},
     "output_type": "display_data"
    },
    {
     "name": "stdout",
     "output_type": "stream",
     "text": [
      "+---------+-------------+\n",
      "|   genres|averageRating|\n",
      "+---------+-------------+\n",
      "|    Drama|          4.2|\n",
      "|    Drama|          4.2|\n",
      "|Biography|          4.1|\n",
      "|    Drama|          4.1|\n",
      "|  History|          4.1|\n",
      "|    Drama|          5.7|\n",
      "|    Drama|          4.6|\n",
      "|  History|          4.6|\n",
      "|Biography|          6.3|\n",
      "|    Drama|          6.3|\n",
      "+---------+-------------+\n",
      "only showing top 10 rows"
     ]
    }
   ],
   "source": [
    "nll = '\\\\N'\n",
    "rating_and_genre = genres_result.join(movie_ratings, on=[\"tconst\"],how = \"inner\")\n",
    "rating_and_genre.select(\"genres\",\"averageRating\").filter(F.col(\"genres\") != nll).filter(rating_and_genre.titleType == \"movie\").show(10)"
   ]
  },
  {
   "cell_type": "markdown",
   "id": "5ac38a61",
   "metadata": {},
   "source": [
    "Now, let's aggregate along the averageRating column to get a resultant dataframe that displays average rating per genre."
   ]
  },
  {
   "cell_type": "code",
   "execution_count": 22,
   "id": "7f8424c8",
   "metadata": {
    "scrolled": true
   },
   "outputs": [
    {
     "data": {
      "application/vnd.jupyter.widget-view+json": {
       "model_id": "3b0a80e79be94597afed63306532bae2",
       "version_major": 2,
       "version_minor": 0
      },
      "text/plain": [
       "VBox()"
      ]
     },
     "metadata": {},
     "output_type": "display_data"
    },
    {
     "data": {
      "application/vnd.jupyter.widget-view+json": {
       "model_id": "",
       "version_major": 2,
       "version_minor": 0
      },
      "text/plain": [
       "FloatProgress(value=0.0, bar_style='info', description='Progress:', layout=Layout(height='25px', width='50%'),…"
      ]
     },
     "metadata": {},
     "output_type": "display_data"
    },
    {
     "name": "stdout",
     "output_type": "stream",
     "text": [
      "+-----------+-----------------+\n",
      "|genres     |avg_rating       |\n",
      "+-----------+-----------------+\n",
      "|Mystery    |5.940437537126316|\n",
      "|Musical    |6.203246053185319|\n",
      "|Action     |5.718734067904495|\n",
      "|Sport      |6.600145190943391|\n",
      "|Talk-Show  |5.800000190734863|\n",
      "|Romance    |6.125714179294426|\n",
      "|Thriller   |5.625967567519544|\n",
      "|Reality-TV |6.379310377712907|\n",
      "|Family     |6.250560452699635|\n",
      "|Fantasy    |5.924820762891499|\n",
      "|History    |6.822718117193864|\n",
      "|Animation  |6.326203749467441|\n",
      "|Film-Noir  |6.636246780503378|\n",
      "|Short      |7.259999942779541|\n",
      "|Sci-Fi     |5.325150006900168|\n",
      "|News       |7.200916040944689|\n",
      "|Drama      |6.288080211097538|\n",
      "|Documentary|7.245469805371099|\n",
      "|Western    |5.948970991005059|\n",
      "|Comedy     |5.941363107822231|\n",
      "+-----------+-----------------+\n",
      "only showing top 20 rows"
     ]
    }
   ],
   "source": [
    "nll = '\\\\N'\n",
    "rating_and_genre.select(\"genres\",\"averageRating\")\\\n",
    "    .withColumn(\"averageRating\", F.col(\"averageRating\").cast(\"float\"))\\\n",
    "    .filter(F.col(\"genres\") != nll)\\\n",
    "    .filter(F.col(\"titleType\") == \"movie\")\\\n",
    "    .groupBy(\"genres\").agg(F.avg(\"averageRating\").alias(\"avg_rating\"),)\\\n",
    "    .show(truncate=False)"
   ]
  },
  {
   "cell_type": "markdown",
   "id": "31bbbe8a",
   "metadata": {},
   "source": [
    "### Horizontal Bar Chart of Top Genres\n",
    "\n",
    "With this data available, let us now build a barchart of all genres \n",
    "\n",
    "**HINT**: don't forget about the matplotlib magic!\n",
    "\n",
    "```\n",
    "%matplot plt\n",
    "```"
   ]
  },
  {
   "cell_type": "code",
   "execution_count": 23,
   "id": "52189e81",
   "metadata": {},
   "outputs": [
    {
     "data": {
      "application/vnd.jupyter.widget-view+json": {
       "model_id": "702815dd55644c3d9b1aee5eebe2e185",
       "version_major": 2,
       "version_minor": 0
      },
      "text/plain": [
       "VBox()"
      ]
     },
     "metadata": {},
     "output_type": "display_data"
    },
    {
     "data": {
      "application/vnd.jupyter.widget-view+json": {
       "model_id": "",
       "version_major": 2,
       "version_minor": 0
      },
      "text/plain": [
       "FloatProgress(value=0.0, bar_style='info', description='Progress:', layout=Layout(height='25px', width='50%'),…"
      ]
     },
     "metadata": {},
     "output_type": "display_data"
    },
    {
     "name": "stdout",
     "output_type": "stream",
     "text": [
      "+-----------+-----------------+\n",
      "|genres     |avg_rating       |\n",
      "+-----------+-----------------+\n",
      "|Short      |7.259999942779541|\n",
      "|Documentary|7.245469805371099|\n",
      "|News       |7.200916040944689|\n",
      "|Biography  |6.983637643044585|\n",
      "|Game-Show  |6.974999904632568|\n",
      "|History    |6.822718117193864|\n",
      "|Music      |6.752020207214588|\n",
      "|Film-Noir  |6.636246780503378|\n",
      "|Sport      |6.600145190943391|\n",
      "|War        |6.483807036278403|\n",
      "|Reality-TV |6.379310377712907|\n",
      "|Animation  |6.326203749467441|\n",
      "|Drama      |6.288080211097538|\n",
      "|Family     |6.250560452699635|\n",
      "|Musical    |6.203246053185319|\n",
      "|Romance    |6.125714179294426|\n",
      "|Crime      |6.026013333109149|\n",
      "|Western    |5.948970991005059|\n",
      "|Comedy     |5.941363107822231|\n",
      "|Mystery    |5.940437537126316|\n",
      "+-----------+-----------------+\n",
      "only showing top 20 rows"
     ]
    }
   ],
   "source": [
    "nll = '\\\\N'\n",
    "rating_and_genre.select(\"genres\",\"averageRating\")\\\n",
    "    .withColumn(\"averageRating\", F.col(\"averageRating\").cast(\"float\"))\\\n",
    "    .filter(F.col(\"genres\") != nll)\\\n",
    "    .filter(F.col(\"titleType\") == \"movie\")\\\n",
    "    .groupBy(\"genres\").agg(F.avg(\"averageRating\").alias(\"avg_rating\"),)\\\n",
    "    .sort(F.desc(\"avg_rating\"))\\\n",
    "    .show(truncate=False)"
   ]
  },
  {
   "cell_type": "code",
   "execution_count": 24,
   "id": "2594600c",
   "metadata": {
    "scrolled": false
   },
   "outputs": [
    {
     "data": {
      "application/vnd.jupyter.widget-view+json": {
       "model_id": "0c76740d1a234220bcbbeeb80e3cae7a",
       "version_major": 2,
       "version_minor": 0
      },
      "text/plain": [
       "VBox()"
      ]
     },
     "metadata": {},
     "output_type": "display_data"
    },
    {
     "data": {
      "application/vnd.jupyter.widget-view+json": {
       "model_id": "",
       "version_major": 2,
       "version_minor": 0
      },
      "text/plain": [
       "FloatProgress(value=0.0, bar_style='info', description='Progress:', layout=Layout(height='25px', width='50%'),…"
      ]
     },
     "metadata": {},
     "output_type": "display_data"
    },
    {
     "data": {
      "image/png": "[encoded data removed]",
      "text/plain": [
       "<IPython.core.display.Image object>"
      ]
     },
     "metadata": {},
     "output_type": "display_data"
    }
   ],
   "source": [
    "import matplotlib.pyplot as plt\n",
    "\n",
    "nll = '\\\\N'\n",
    "x = rating_and_genre.select(\"genres\",\"averageRating\")\\\n",
    "    .withColumn(\"averageRating\", F.col(\"averageRating\").cast(\"float\"))\\\n",
    "    .filter(F.col(\"genres\") != nll)\\\n",
    "    .filter(F.col(\"titleType\") == \"movie\")\\\n",
    "    .groupBy(\"genres\").agg(F.avg(\"averageRating\").alias(\"avg_rating\"),)\\\n",
    "    .sort(F.asc(\"avg_rating\")).toPandas().plot.barh(color='purple') \n",
    "x.set_xlabel(\"Average Rating\")\n",
    "x.set_ylabel(\"Genre\")\n",
    "x.set_title(\"Top Genres in the Movie Category\")\n",
    "\n",
    "temp = rating_and_genre.select(\"genres\",\"averageRating\")\\\n",
    "    .withColumn(\"averageRating\", F.col(\"averageRating\").cast(\"float\"))\\\n",
    "    .filter(F.col(\"genres\") != nll)\\\n",
    "    .filter(F.col(\"titleType\") == \"movie\")\\\n",
    "    .groupBy(\"genres\").agg(F.avg(\"averageRating\").alias(\"avg_rating\"),)\\\n",
    "    .sort(F.asc(\"avg_rating\"))\n",
    "\n",
    "labels = temp.select('genres').collect()\n",
    "labels = [labels[i][\"genres\"] for i in range(len(labels))]\n",
    "\n",
    "x.set_yticklabels(labels)\n",
    "x.set_xlim([5, 7.5])\n",
    "\n",
    "fig = plt.gcf()\n",
    "fig.set_size_inches(18.5, 10.5)\n",
    "%matplot plt"
   ]
  },
  {
   "cell_type": "markdown",
   "id": "0cae0d39",
   "metadata": {},
   "source": [
    "## PART 3 - Analyzing Job Categories"
   ]
  },
  {
   "cell_type": "markdown",
   "id": "79d96276",
   "metadata": {},
   "source": [
    "## Total Unique Job Categories"
   ]
  },
  {
   "cell_type": "markdown",
   "id": "e7d31372",
   "metadata": {},
   "source": [
    "**What is the total number of unique job categories?**"
   ]
  },
  {
   "cell_type": "code",
   "execution_count": 25,
   "id": "d98a0f7e",
   "metadata": {},
   "outputs": [
    {
     "data": {
      "application/vnd.jupyter.widget-view+json": {
       "model_id": "5b95f6e4b81641b08c614d69b60ef570",
       "version_major": 2,
       "version_minor": 0
      },
      "text/plain": [
       "VBox()"
      ]
     },
     "metadata": {},
     "output_type": "display_data"
    },
    {
     "data": {
      "application/vnd.jupyter.widget-view+json": {
       "model_id": "",
       "version_major": 2,
       "version_minor": 0
      },
      "text/plain": [
       "FloatProgress(value=0.0, bar_style='info', description='Progress:', layout=Layout(height='25px', width='50%'),…"
      ]
     },
     "metadata": {},
     "output_type": "display_data"
    },
    {
     "name": "stdout",
     "output_type": "stream",
     "text": [
      "+---------+---------------+\n",
      "|   tconst|       category|\n",
      "+---------+---------------+\n",
      "|tt0000826|cinematographer|\n",
      "|tt0001014|cinematographer|\n",
      "|tt0001150|        actress|\n",
      "|tt0002234|         writer|\n",
      "|tt0002401|       director|\n",
      "+---------+---------------+\n",
      "only showing top 5 rows"
     ]
    }
   ],
   "source": [
    "movie_actors.select(\"tconst\",\"category\").distinct().show(5)"
   ]
  },
  {
   "cell_type": "code",
   "execution_count": 26,
   "id": "fca4e545",
   "metadata": {},
   "outputs": [
    {
     "data": {
      "application/vnd.jupyter.widget-view+json": {
       "model_id": "6a10b135456e4dba824f592a232ea251",
       "version_major": 2,
       "version_minor": 0
      },
      "text/plain": [
       "VBox()"
      ]
     },
     "metadata": {},
     "output_type": "display_data"
    },
    {
     "data": {
      "application/vnd.jupyter.widget-view+json": {
       "model_id": "",
       "version_major": 2,
       "version_minor": 0
      },
      "text/plain": [
       "FloatProgress(value=0.0, bar_style='info', description='Progress:', layout=Layout(height='25px', width='50%'),…"
      ]
     },
     "metadata": {},
     "output_type": "display_data"
    },
    {
     "name": "stdout",
     "output_type": "stream",
     "text": [
      "12"
     ]
    }
   ],
   "source": [
    "movie_actors.select(\"category\").distinct().count()"
   ]
  },
  {
   "cell_type": "markdown",
   "id": "3c19f62b",
   "metadata": {},
   "source": [
    "**What are the unique job categories available?**"
   ]
  },
  {
   "cell_type": "code",
   "execution_count": 27,
   "id": "37eadfcc",
   "metadata": {},
   "outputs": [
    {
     "data": {
      "application/vnd.jupyter.widget-view+json": {
       "model_id": "e13fbb31faec4d259e95cae211a989f0",
       "version_major": 2,
       "version_minor": 0
      },
      "text/plain": [
       "VBox()"
      ]
     },
     "metadata": {},
     "output_type": "display_data"
    },
    {
     "data": {
      "application/vnd.jupyter.widget-view+json": {
       "model_id": "",
       "version_major": 2,
       "version_minor": 0
      },
      "text/plain": [
       "FloatProgress(value=0.0, bar_style='info', description='Progress:', layout=Layout(height='25px', width='50%'),…"
      ]
     },
     "metadata": {},
     "output_type": "display_data"
    },
    {
     "name": "stdout",
     "output_type": "stream",
     "text": [
      "+-------------------+\n",
      "|           category|\n",
      "+-------------------+\n",
      "|            actress|\n",
      "|           producer|\n",
      "|production_designer|\n",
      "|             writer|\n",
      "|              actor|\n",
      "|    cinematographer|\n",
      "|      archive_sound|\n",
      "|    archive_footage|\n",
      "|               self|\n",
      "|             editor|\n",
      "|           composer|\n",
      "|           director|\n",
      "+-------------------+"
     ]
    }
   ],
   "source": [
    "movie_actors.select(\"category\").distinct().show()"
   ]
  },
  {
   "cell_type": "markdown",
   "id": "59b33bb2",
   "metadata": {},
   "source": [
    "## Top Job Categories"
   ]
  },
  {
   "cell_type": "markdown",
   "id": "7f911dfc",
   "metadata": {},
   "source": [
    "Now let's find the top job categories in this dataset by rolling up categories."
   ]
  },
  {
   "cell_type": "markdown",
   "id": "1c0edd43",
   "metadata": {},
   "source": [
    "### Counts of Titles / Job Category"
   ]
  },
  {
   "cell_type": "markdown",
   "id": "001e3f3c",
   "metadata": {},
   "source": [
    "The expected output should be:\n",
    "\n",
    "| category | count |\n",
    "|-------------|------------|\n",
    "| a     | 15         |\n",
    "| b     | 2          |\n",
    "| c     | 45          |\n",
    "\n",
    "Or something to that effect."
   ]
  },
  {
   "cell_type": "code",
   "execution_count": 28,
   "id": "d6f8d689",
   "metadata": {},
   "outputs": [
    {
     "data": {
      "application/vnd.jupyter.widget-view+json": {
       "model_id": "3d301251a64b45f09dff501194bd1f47",
       "version_major": 2,
       "version_minor": 0
      },
      "text/plain": [
       "VBox()"
      ]
     },
     "metadata": {},
     "output_type": "display_data"
    },
    {
     "data": {
      "application/vnd.jupyter.widget-view+json": {
       "model_id": "",
       "version_major": 2,
       "version_minor": 0
      },
      "text/plain": [
       "FloatProgress(value=0.0, bar_style='info', description='Progress:', layout=Layout(height='25px', width='50%'),…"
      ]
     },
     "metadata": {},
     "output_type": "display_data"
    },
    {
     "name": "stdout",
     "output_type": "stream",
     "text": [
      "+-------------------+-------+\n",
      "|           category|  count|\n",
      "+-------------------+-------+\n",
      "|            actress|6325097|\n",
      "|           producer|2197866|\n",
      "|production_designer| 285924|\n",
      "|             writer|4811596|\n",
      "|              actor|8493701|\n",
      "|    cinematographer|1300404|\n",
      "|      archive_sound|   2143|\n",
      "|    archive_footage| 209035|\n",
      "|               self|6153089|\n",
      "|             editor|1197669|\n",
      "|           composer|1313187|\n",
      "|           director|4179106|\n",
      "+-------------------+-------+\n",
      "\n",
      "None"
     ]
    }
   ],
   "source": [
    "from pyspark.sql.functions import mean, stddev, col, abs, split, explode\n",
    "\n",
    "job_categories = movie_actors.select('tconst','category').withColumn(\"category\", explode(split(\"category\", \", \")))\n",
    "print(job_categories.groupBy('category').count().show())"
   ]
  },
  {
   "cell_type": "markdown",
   "id": "96ce95b2",
   "metadata": {},
   "source": [
    "### Bar Chart of Top Job Categories\n",
    "\n",
    "With this data available, let us now build a barchart of the top 5 categories. \n",
    "\n",
    "**HINT**: don't forget about the matplotlib magic!\n",
    "\n",
    "```\n",
    "%matplot plt\n",
    "```"
   ]
  },
  {
   "cell_type": "code",
   "execution_count": 29,
   "id": "0af53ede",
   "metadata": {
    "scrolled": true
   },
   "outputs": [
    {
     "data": {
      "application/vnd.jupyter.widget-view+json": {
       "model_id": "b1770ce435cf4eb8b6e1221f2494be97",
       "version_major": 2,
       "version_minor": 0
      },
      "text/plain": [
       "VBox()"
      ]
     },
     "metadata": {},
     "output_type": "display_data"
    },
    {
     "data": {
      "application/vnd.jupyter.widget-view+json": {
       "model_id": "",
       "version_major": 2,
       "version_minor": 0
      },
      "text/plain": [
       "FloatProgress(value=0.0, bar_style='info', description='Progress:', layout=Layout(height='25px', width='50%'),…"
      ]
     },
     "metadata": {},
     "output_type": "display_data"
    },
    {
     "name": "stdout",
     "output_type": "stream",
     "text": [
      "+--------+-------+\n",
      "|category|  count|\n",
      "+--------+-------+\n",
      "|   actor|8493701|\n",
      "| actress|6325097|\n",
      "|    self|6153089|\n",
      "|  writer|4811596|\n",
      "|director|4179106|\n",
      "+--------+-------+"
     ]
    }
   ],
   "source": [
    "job_categories_count = job_categories.groupBy('category').count()\n",
    "job_categories_top_5 = job_categories_count.sort(\"count\", ascending=False).limit(5)\n",
    "job_categories_top_5.show()"
   ]
  },
  {
   "cell_type": "code",
   "execution_count": 30,
   "id": "f397416a",
   "metadata": {
    "scrolled": true
   },
   "outputs": [
    {
     "data": {
      "application/vnd.jupyter.widget-view+json": {
       "model_id": "5665de5d750f4369847b5e167b9a07b9",
       "version_major": 2,
       "version_minor": 0
      },
      "text/plain": [
       "VBox()"
      ]
     },
     "metadata": {},
     "output_type": "display_data"
    },
    {
     "data": {
      "application/vnd.jupyter.widget-view+json": {
       "model_id": "",
       "version_major": 2,
       "version_minor": 0
      },
      "text/plain": [
       "FloatProgress(value=0.0, bar_style='info', description='Progress:', layout=Layout(height='25px', width='50%'),…"
      ]
     },
     "metadata": {},
     "output_type": "display_data"
    },
    {
     "data": {
      "image/png": "[encoded data removed]",
      "text/plain": [
       "<IPython.core.display.Image object>"
      ]
     },
     "metadata": {},
     "output_type": "display_data"
    }
   ],
   "source": [
    "job_categories_top_5_pd = job_categories_top_5.toPandas().set_index('category')\n",
    "\n",
    "job_categories_top_5_pd.plot.bar(color='orange')\n",
    "plt.title('Top Job Categories')\n",
    "plt.ylabel(\"count\")\n",
    "plt.xlabel(\"categories\")\n",
    "plt.xticks(rotation = 45)\n",
    "plt.ylim([3e6,9e6])\n",
    "plt.tight_layout()\n",
    "%matplot plt"
   ]
  },
  {
   "cell_type": "markdown",
   "id": "c5a31583",
   "metadata": {},
   "source": [
    "# PART 4 - Answer to the following questions:"
   ]
  },
  {
   "cell_type": "markdown",
   "id": "76917365",
   "metadata": {},
   "source": [
    "## 1) Find all the \"movies\" featuring \"Johnny Depp\" and \"Helena Bonham Carter\"."
   ]
  },
  {
   "cell_type": "markdown",
   "id": "c4600ef2",
   "metadata": {},
   "source": [
    "First join actors, genres, and movie actors on each other"
   ]
  },
  {
   "cell_type": "code",
   "execution_count": 31,
   "id": "08ceca59",
   "metadata": {},
   "outputs": [
    {
     "data": {
      "application/vnd.jupyter.widget-view+json": {
       "model_id": "536b564613e64195b6c499952dfe55f4",
       "version_major": 2,
       "version_minor": 0
      },
      "text/plain": [
       "VBox()"
      ]
     },
     "metadata": {},
     "output_type": "display_data"
    },
    {
     "data": {
      "application/vnd.jupyter.widget-view+json": {
       "model_id": "",
       "version_major": 2,
       "version_minor": 0
      },
      "text/plain": [
       "FloatProgress(value=0.0, bar_style='info', description='Progress:', layout=Layout(height='25px', width='50%'),…"
      ]
     },
     "metadata": {},
     "output_type": "display_data"
    },
    {
     "name": "stdout",
     "output_type": "stream",
     "text": [
      "+----------------------------------------------+\n",
      "|primaryTitle                                  |\n",
      "+----------------------------------------------+\n",
      "|Alice Through the Looking Glass               |\n",
      "|Dark Shadows                                  |\n",
      "|Charlie and the Chocolate Factory             |\n",
      "|Alice in Wonderland                           |\n",
      "|Sweeney Todd: The Demon Barber of Fleet Street|\n",
      "|Corpse Bride                                  |\n",
      "+----------------------------------------------+"
     ]
    }
   ],
   "source": [
    "movie_actor_genre_join = movie_actors.join(genres, on=[\"tconst\"],how = \"inner\")\n",
    "move_actor_join = movie_actor_genre_join.join(actors, on=[\"nconst\"],how = \"inner\")\n",
    "\n",
    "actor_johnnyd = move_actor_join.select(\"primaryTitle\",\"primaryName\").filter(move_actor_join.titleType == \"movie\").filter(move_actor_join.primaryName == \"Johnny Depp\").distinct()\n",
    "\n",
    "actor_helena = move_actor_join.select(\"primaryTitle\",\"primaryName\").filter(move_actor_join.titleType == \"movie\").filter(move_actor_join.primaryName == \"Helena Bonham Carter\").distinct()\n",
    "\n",
    "dfmix = actor_johnnyd.join(actor_helena, on=[\"primaryTitle\"],how = \"inner\")\n",
    "dfmix.select(\"primaryTitle\").show(truncate=False)\n"
   ]
  },
  {
   "cell_type": "markdown",
   "id": "39452206",
   "metadata": {},
   "source": [
    "## 2) Find all the \"movies\" featuring \"Brad Pitt\" after 2010."
   ]
  },
  {
   "cell_type": "code",
   "execution_count": 32,
   "id": "c536eb48",
   "metadata": {},
   "outputs": [
    {
     "data": {
      "application/vnd.jupyter.widget-view+json": {
       "model_id": "2aaf5af15adb4e259abf64eb9c70578e",
       "version_major": 2,
       "version_minor": 0
      },
      "text/plain": [
       "VBox()"
      ]
     },
     "metadata": {},
     "output_type": "display_data"
    },
    {
     "data": {
      "application/vnd.jupyter.widget-view+json": {
       "model_id": "",
       "version_major": 2,
       "version_minor": 0
      },
      "text/plain": [
       "FloatProgress(value=0.0, bar_style='info', description='Progress:', layout=Layout(height='25px', width='50%'),…"
      ]
     },
     "metadata": {},
     "output_type": "display_data"
    },
    {
     "name": "stdout",
     "output_type": "stream",
     "text": [
      "+---------------------------------+---------+\n",
      "|primaryTitle                     |startYear|\n",
      "+---------------------------------+---------+\n",
      "|Babylon                          |2021     |\n",
      "|Kajillionaire                    |2020     |\n",
      "|Irresistible                     |2020     |\n",
      "|Ad Astra                         |2019     |\n",
      "|The King                         |2019     |\n",
      "|Once Upon a Time ... in Hollywood|2019     |\n",
      "|Vice                             |2018     |\n",
      "|War Machine                      |2017     |\n",
      "|Voyage of Time: Life's Journey   |2016     |\n",
      "|Allied                           |2016     |\n",
      "|By the Sea                       |2015     |\n",
      "|The Big Short                    |2015     |\n",
      "|Hitting the Apex                 |2015     |\n",
      "|Fury                             |2014     |\n",
      "|12 Years a Slave                 |2013     |\n",
      "|Kick-Ass 2                       |2013     |\n",
      "|World War Z                      |2013     |\n",
      "|Killing Them Softly              |2012     |\n",
      "|Moneyball                        |2011     |\n",
      "|The Tree of Life                 |2011     |\n",
      "+---------------------------------+---------+"
     ]
    }
   ],
   "source": [
    "nll = '\\\\N'\n",
    "actor_bradp = move_actor_join.select(\"primaryTitle\",\"primaryName\",\"startYear\").filter(move_actor_join.titleType == \"movie\").filter(move_actor_join.primaryName == \"Brad Pitt\").filter(move_actor_join.startYear != nll).filter(move_actor_join.startYear>\"2010\").distinct()\n",
    "actor_bradp.select(\"primaryTitle\",\"startYear\").sort(F.desc(\"startYear\")).show(truncate=False)\n"
   ]
  },
  {
   "cell_type": "markdown",
   "id": "67fc41d2",
   "metadata": {},
   "source": [
    "## 3) What is the number of \"movies\" \"acted\" by \"Zendaya\" per year?"
   ]
  },
  {
   "cell_type": "code",
   "execution_count": 33,
   "id": "c605ce7b",
   "metadata": {},
   "outputs": [
    {
     "data": {
      "application/vnd.jupyter.widget-view+json": {
       "model_id": "5e45ab8a5ef045dc9ee6a6e0353197b8",
       "version_major": 2,
       "version_minor": 0
      },
      "text/plain": [
       "VBox()"
      ]
     },
     "metadata": {},
     "output_type": "display_data"
    },
    {
     "data": {
      "application/vnd.jupyter.widget-view+json": {
       "model_id": "",
       "version_major": 2,
       "version_minor": 0
      },
      "text/plain": [
       "FloatProgress(value=0.0, bar_style='info', description='Progress:', layout=Layout(height='25px', width='50%'),…"
      ]
     },
     "metadata": {},
     "output_type": "display_data"
    },
    {
     "name": "stdout",
     "output_type": "stream",
     "text": [
      "+---------+-----+\n",
      "|startYear|count|\n",
      "+---------+-----+\n",
      "|     2020|    1|\n",
      "|     2018|    2|\n",
      "|     2017|    1|\n",
      "+---------+-----+\n",
      "\n",
      "None"
     ]
    }
   ],
   "source": [
    "actor_zendaya = move_actor_join.select(\"primaryTitle\",\"primaryName\",\"startYear\").filter(move_actor_join.titleType == \"movie\").filter(move_actor_join.primaryName == \"Zendaya\").filter(move_actor_join.startYear != nll).distinct()\n",
    "\n",
    "actor_zendaya.select('startYear')\n",
    "print(actor_zendaya.groupBy('startYear').count().show())"
   ]
  },
  {
   "cell_type": "markdown",
   "id": "b3fe5091",
   "metadata": {},
   "source": [
    "## 4) What are the \"movies\" by average rating greater than \"9.7\" and released in \"2019\"?"
   ]
  },
  {
   "cell_type": "code",
   "execution_count": 34,
   "id": "366703ab",
   "metadata": {},
   "outputs": [
    {
     "data": {
      "application/vnd.jupyter.widget-view+json": {
       "model_id": "af97fc8db6194518b43736f47fa290e1",
       "version_major": 2,
       "version_minor": 0
      },
      "text/plain": [
       "VBox()"
      ]
     },
     "metadata": {},
     "output_type": "display_data"
    },
    {
     "data": {
      "application/vnd.jupyter.widget-view+json": {
       "model_id": "",
       "version_major": 2,
       "version_minor": 0
      },
      "text/plain": [
       "FloatProgress(value=0.0, bar_style='info', description='Progress:', layout=Layout(height='25px', width='50%'),…"
      ]
     },
     "metadata": {},
     "output_type": "display_data"
    },
    {
     "name": "stdout",
     "output_type": "stream",
     "text": [
      "+----------------------------------------+-------------+\n",
      "|primaryTitle                            |averageRating|\n",
      "+----------------------------------------+-------------+\n",
      "|Kirket                                  |10.0         |\n",
      "|The Butcher Baronet                     |10.0         |\n",
      "|A Medicine for the Mind                 |10.0         |\n",
      "|Bu Can Var Oldugu Sürece                |10.0         |\n",
      "|Love in Kilnerry                        |10.0         |\n",
      "|A Grunt's Life                          |10.0         |\n",
      "|Our Scripted Life                       |10.0         |\n",
      "|L'Enfant Terrible                       |10.0         |\n",
      "|From Shock to Awe                       |9.8          |\n",
      "|Square One                              |9.8          |\n",
      "|Kamen Rider Zi-O: Over Quartzer         |9.8          |\n",
      "|We Shall Not Die Now                    |9.8          |\n",
      "|Gini Helida Kathe                       |9.8          |\n",
      "|Time and motion                         |9.8          |\n",
      "|Randhawa                                |9.8          |\n",
      "|The Cardinal                            |9.9          |\n",
      "|Puritan: All of Life to The Glory of God|9.9          |\n",
      "|Superhombre                             |9.9          |\n",
      "+----------------------------------------+-------------+"
     ]
    }
   ],
   "source": [
    "movie_rating_join = move_actor_join.join(movie_ratings, on=[\"tconst\"],how = \"inner\")\n",
    "ratings= movie_rating_join.select(\"primaryTitle\",\"startYear\",\"averageRating\").filter(move_actor_join.titleType == \"movie\").filter(move_actor_join.startYear != nll).filter(move_actor_join.startYear == \"2019\").filter(movie_rating_join.averageRating > 9.7).distinct()\n",
    "\n",
    "ratings.select(\"primaryTitle\",\"averageRating\").sort(F.asc(\"averageRating\")).show(truncate=False)\n"
   ]
  },
  {
   "cell_type": "markdown",
   "id": "a33b20a6",
   "metadata": {},
   "source": [
    "## Extra Credit - Analysis of your choice\n",
    "\n",
    "Try and analyze some interesting dimension to this data. You should specify the question in your Project2_Analysis.ipynb. \n",
    "\n",
    "You must join at least two datasets.\n"
   ]
  },
  {
   "cell_type": "code",
   "execution_count": null,
   "id": "0edf3984",
   "metadata": {},
   "outputs": [],
   "source": []
  }
 ],
 "metadata": {
  "kernelspec": {
   "display_name": "PySpark",
   "language": "",
   "name": "pysparkkernel"
  },
  "language_info": {
   "codemirror_mode": {
    "name": "python",
    "version": 2
   },
   "mimetype": "text/x-python",
   "name": "pyspark",
   "pygments_lexer": "python2"
  }
 },
 "nbformat": 4,
 "nbformat_minor": 5
}
